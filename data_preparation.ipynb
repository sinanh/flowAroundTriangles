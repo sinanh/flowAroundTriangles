{
 "cells": [
  {
   "cell_type": "code",
   "execution_count": 59,
   "metadata": {},
   "outputs": [],
   "source": [
    "# -*- coding: utf-8 -*-\n",
    "\n",
    "from os import listdir\n",
    "import pandas as pd\n",
    "import numpy as np\n",
    "import re\n",
    "import matplotlib.pyplot as plt"
   ]
  },
  {
   "cell_type": "code",
   "execution_count": 199,
   "metadata": {},
   "outputs": [
    {
     "data": {
      "text/plain": [
       "<Figure size 5400x3600 with 0 Axes>"
      ]
     },
     "execution_count": 199,
     "metadata": {},
     "output_type": "execute_result"
    },
    {
     "data": {
      "text/plain": [
       "<Figure size 5400x3600 with 0 Axes>"
      ]
     },
     "metadata": {},
     "output_type": "display_data"
    }
   ],
   "source": [
    "from matplotlib.pyplot import figure\n",
    "\n",
    "figure(figsize=(18, 12), dpi=300)"
   ]
  },
  {
   "cell_type": "code",
   "execution_count": 10,
   "metadata": {},
   "outputs": [
    {
     "name": "stdout",
     "output_type": "stream",
     "text": [
      "shapes: 1458  1458  1458 1458\n"
     ]
    }
   ],
   "source": [
    "\n",
    "\n",
    "# Get all file names from results folder\n",
    "file_list = listdir(\"simple_laminar/C_D/\")\n",
    "\n",
    "# Initialize lists to store data\n",
    "all_data = []\n",
    "mean_cd_200 = []\n",
    "mean_cd_400 = []\n",
    "mean_cd_600 = []\n",
    "x1 = []\n",
    "y1 = []\n",
    "x2 = []\n",
    "y2 = []\n",
    "x3 = []\n",
    "y3 = []\n",
    "Re = []\n",
    "\n",
    "# Loop through list of files and get parameter values from file name\n",
    "for i,file in enumerate(file_list):\n",
    "    if file.endswith(\".dat\"):\n",
    "        # Load drag coefficient data\n",
    "        #print(\"filename\", file)\n",
    "        file_data = pd.read_csv(\"simple_laminar/C_D/\"+file,skiprows=12,sep=\"\\t\")\n",
    "        file_data.columns = file_data.columns.str.strip()\n",
    "        all_data.append(file_data)\n",
    "        # Append x,y and drag coefficient data to lists\n",
    "        Re = int(re.search(r'Re-(\\d+)',file).group(1))\n",
    "        if Re == 200:\n",
    "            x1.append(int(re.search(r'x1-(\\d+)',file).group(1)))\n",
    "            y1.append(int(re.search(r'y1-(\\d+)',file).group(1)))\n",
    "            x2.append(int(re.search(r'x2-(\\d+)',file).group(1)))\n",
    "            y2.append(int(re.search(r'y2-(\\d+)',file).group(1)))\n",
    "            x3.append(int(re.search(r'x3-(\\d+)',file).group(1)))\n",
    "            y3.append(int(re.search(r'y3-(\\d+)',file).group(1)))\n",
    "            mean_cd_200.append(np.mean(file_data[\"Cd\"]))\n",
    "        if Re == 400:\n",
    "            mean_cd_400.append(np.mean(file_data[\"Cd\"]))\n",
    "        if Re == 600:\n",
    "            mean_cd_600.append(np.mean(file_data[\"Cd\"]))\n",
    "# Create a DataFrame with all x1,y1,x2,y2,x3,y3,mean_cd_200,mean_cd_400 and mean_cd_600 as columns\n",
    "# that can be used to train the NN model\n",
    "print(f\"shapes: {len(mean_cd_600)}  {len(mean_cd_400)}  {len(mean_cd_200)} {len(x1)}\")\n",
    "df = pd.DataFrame(data={\"x1\":x1,\"y1\":y1,\"x2\":x2,\"y2\":y2,\"x3\":x3,\"y3\":y3,\"mean Cd 200\":mean_cd_200,\"mean Cd 400\":mean_cd_400,\"mean Cd 600\":mean_cd_600})\n",
    "df.to_csv(\"tmp/df.csv\")\n",
    "\n",
    "# Not used right now\n",
    "# df[\"x1Re\"] = (df[\"x1\"]-np.mean(df[\"x1\"]))*(df[\"Re\"]-np.mean(df[\"Re\"]))\n",
    "# df[\"y1Re\"] = (df[\"y1\"]-np.mean(df[\"y1\"]))*(df[\"Re\"]-np.mean(df[\"Re\"]))\n",
    "# df[\"x2Re\"] = (df[\"x2\"]-np.mean(df[\"x2\"]))*(df[\"Re\"]-np.mean(df[\"Re\"]))\n",
    "# df[\"y2Re\"] = (df[\"y2\"]-np.mean(df[\"y2\"]))*(df[\"Re\"]-np.mean(df[\"Re\"]))\n",
    "# df[\"x3Re\"] = (df[\"x3\"]-np.mean(df[\"x3\"]))*(df[\"Re\"]-np.mean(df[\"Re\"]))\n",
    "# df[\"y3Re\"] = (df[\"y3\"]-np.mean(df[\"y3\"]))*(df[\"Re\"]-np.mean(df[\"Re\"]))\n"
   ]
  },
  {
   "cell_type": "code",
   "execution_count": 6,
   "metadata": {},
   "outputs": [],
   "source": [
    "df.to_csv(\"tmp/df.csv\")\n"
   ]
  },
  {
   "cell_type": "code",
   "execution_count": 8,
   "metadata": {},
   "outputs": [],
   "source": [
    "file_data = pd.read_csv(\"simple_laminar/C_D/x1-17_y1-23_x2-21_y2-15_x3-21_y3-21_Re-200.dat\",skiprows=12,sep=\"\\t\")\n"
   ]
  },
  {
   "cell_type": "code",
   "execution_count": 9,
   "metadata": {},
   "outputs": [
    {
     "data": {
      "text/html": [
       "<div>\n",
       "<style scoped>\n",
       "    .dataframe tbody tr th:only-of-type {\n",
       "        vertical-align: middle;\n",
       "    }\n",
       "\n",
       "    .dataframe tbody tr th {\n",
       "        vertical-align: top;\n",
       "    }\n",
       "\n",
       "    .dataframe thead th {\n",
       "        text-align: right;\n",
       "    }\n",
       "</style>\n",
       "<table border=\"1\" class=\"dataframe\">\n",
       "  <thead>\n",
       "    <tr style=\"text-align: right;\">\n",
       "      <th></th>\n",
       "      <th># Time</th>\n",
       "      <th>Cd</th>\n",
       "      <th>Cs</th>\n",
       "      <th>Cl</th>\n",
       "      <th>CmRoll</th>\n",
       "      <th>CmPitch</th>\n",
       "      <th>CmYaw</th>\n",
       "      <th>Cd(f)</th>\n",
       "      <th>Cd(r)</th>\n",
       "      <th>Cs(f)</th>\n",
       "      <th>Cs(r)</th>\n",
       "      <th>Cl(f)</th>\n",
       "      <th>Cl(r)</th>\n",
       "    </tr>\n",
       "  </thead>\n",
       "  <tbody>\n",
       "    <tr>\n",
       "      <th>0</th>\n",
       "      <td>1</td>\n",
       "      <td>0.005735</td>\n",
       "      <td>7.712747e-37</td>\n",
       "      <td>0.001937</td>\n",
       "      <td>-0.000048</td>\n",
       "      <td>0.007193</td>\n",
       "      <td>0.000143</td>\n",
       "      <td>0.002819</td>\n",
       "      <td>0.002916</td>\n",
       "      <td>0.000143</td>\n",
       "      <td>-0.000143</td>\n",
       "      <td>0.008161</td>\n",
       "      <td>-0.006225</td>\n",
       "    </tr>\n",
       "    <tr>\n",
       "      <th>1</th>\n",
       "      <td>2</td>\n",
       "      <td>0.014823</td>\n",
       "      <td>2.174815e-37</td>\n",
       "      <td>0.005543</td>\n",
       "      <td>-0.000139</td>\n",
       "      <td>0.017712</td>\n",
       "      <td>0.000371</td>\n",
       "      <td>0.007273</td>\n",
       "      <td>0.007550</td>\n",
       "      <td>0.000371</td>\n",
       "      <td>-0.000371</td>\n",
       "      <td>0.020483</td>\n",
       "      <td>-0.014940</td>\n",
       "    </tr>\n",
       "    <tr>\n",
       "      <th>2</th>\n",
       "      <td>3</td>\n",
       "      <td>0.015361</td>\n",
       "      <td>8.318108e-37</td>\n",
       "      <td>0.007183</td>\n",
       "      <td>-0.000180</td>\n",
       "      <td>0.015921</td>\n",
       "      <td>0.000384</td>\n",
       "      <td>0.007501</td>\n",
       "      <td>0.007860</td>\n",
       "      <td>0.000384</td>\n",
       "      <td>-0.000384</td>\n",
       "      <td>0.019513</td>\n",
       "      <td>-0.012330</td>\n",
       "    </tr>\n",
       "    <tr>\n",
       "      <th>3</th>\n",
       "      <td>4</td>\n",
       "      <td>0.013949</td>\n",
       "      <td>1.165880e-37</td>\n",
       "      <td>0.007864</td>\n",
       "      <td>-0.000197</td>\n",
       "      <td>0.012167</td>\n",
       "      <td>0.000349</td>\n",
       "      <td>0.006778</td>\n",
       "      <td>0.007171</td>\n",
       "      <td>0.000349</td>\n",
       "      <td>-0.000349</td>\n",
       "      <td>0.016099</td>\n",
       "      <td>-0.008235</td>\n",
       "    </tr>\n",
       "    <tr>\n",
       "      <th>4</th>\n",
       "      <td>5</td>\n",
       "      <td>0.013288</td>\n",
       "      <td>1.436331e-37</td>\n",
       "      <td>0.008307</td>\n",
       "      <td>-0.000208</td>\n",
       "      <td>0.010141</td>\n",
       "      <td>0.000332</td>\n",
       "      <td>0.006436</td>\n",
       "      <td>0.006852</td>\n",
       "      <td>0.000332</td>\n",
       "      <td>-0.000332</td>\n",
       "      <td>0.014294</td>\n",
       "      <td>-0.005987</td>\n",
       "    </tr>\n",
       "    <tr>\n",
       "      <th>...</th>\n",
       "      <td>...</td>\n",
       "      <td>...</td>\n",
       "      <td>...</td>\n",
       "      <td>...</td>\n",
       "      <td>...</td>\n",
       "      <td>...</td>\n",
       "      <td>...</td>\n",
       "      <td>...</td>\n",
       "      <td>...</td>\n",
       "      <td>...</td>\n",
       "      <td>...</td>\n",
       "      <td>...</td>\n",
       "      <td>...</td>\n",
       "    </tr>\n",
       "    <tr>\n",
       "      <th>995</th>\n",
       "      <td>996</td>\n",
       "      <td>0.014490</td>\n",
       "      <td>1.905766e-38</td>\n",
       "      <td>0.006694</td>\n",
       "      <td>-0.000167</td>\n",
       "      <td>0.015411</td>\n",
       "      <td>0.000362</td>\n",
       "      <td>0.007077</td>\n",
       "      <td>0.007412</td>\n",
       "      <td>0.000362</td>\n",
       "      <td>-0.000362</td>\n",
       "      <td>0.018757</td>\n",
       "      <td>-0.012064</td>\n",
       "    </tr>\n",
       "    <tr>\n",
       "      <th>996</th>\n",
       "      <td>997</td>\n",
       "      <td>0.014345</td>\n",
       "      <td>7.482934e-38</td>\n",
       "      <td>0.007739</td>\n",
       "      <td>-0.000193</td>\n",
       "      <td>0.013295</td>\n",
       "      <td>0.000359</td>\n",
       "      <td>0.006979</td>\n",
       "      <td>0.007366</td>\n",
       "      <td>0.000359</td>\n",
       "      <td>-0.000359</td>\n",
       "      <td>0.017164</td>\n",
       "      <td>-0.009425</td>\n",
       "    </tr>\n",
       "    <tr>\n",
       "      <th>997</th>\n",
       "      <td>998</td>\n",
       "      <td>0.014179</td>\n",
       "      <td>2.284116e-37</td>\n",
       "      <td>0.008601</td>\n",
       "      <td>-0.000215</td>\n",
       "      <td>0.011421</td>\n",
       "      <td>0.000354</td>\n",
       "      <td>0.006875</td>\n",
       "      <td>0.007305</td>\n",
       "      <td>0.000354</td>\n",
       "      <td>-0.000354</td>\n",
       "      <td>0.015722</td>\n",
       "      <td>-0.007121</td>\n",
       "    </tr>\n",
       "    <tr>\n",
       "      <th>998</th>\n",
       "      <td>999</td>\n",
       "      <td>0.014069</td>\n",
       "      <td>7.468921e-38</td>\n",
       "      <td>0.009208</td>\n",
       "      <td>-0.000230</td>\n",
       "      <td>0.010081</td>\n",
       "      <td>0.000352</td>\n",
       "      <td>0.006804</td>\n",
       "      <td>0.007265</td>\n",
       "      <td>0.000352</td>\n",
       "      <td>-0.000352</td>\n",
       "      <td>0.014685</td>\n",
       "      <td>-0.005477</td>\n",
       "    </tr>\n",
       "    <tr>\n",
       "      <th>999</th>\n",
       "      <td>1000</td>\n",
       "      <td>0.014209</td>\n",
       "      <td>4.554220e-38</td>\n",
       "      <td>0.009450</td>\n",
       "      <td>-0.000236</td>\n",
       "      <td>0.009860</td>\n",
       "      <td>0.000355</td>\n",
       "      <td>0.006868</td>\n",
       "      <td>0.007341</td>\n",
       "      <td>0.000355</td>\n",
       "      <td>-0.000355</td>\n",
       "      <td>0.014585</td>\n",
       "      <td>-0.005135</td>\n",
       "    </tr>\n",
       "  </tbody>\n",
       "</table>\n",
       "<p>1000 rows × 13 columns</p>\n",
       "</div>"
      ],
      "text/plain": [
       "     # Time          Cd              Cs              Cl              \\\n",
       "0                 1        0.005735    7.712747e-37        0.001937   \n",
       "1                 2        0.014823    2.174815e-37        0.005543   \n",
       "2                 3        0.015361    8.318108e-37        0.007183   \n",
       "3                 4        0.013949    1.165880e-37        0.007864   \n",
       "4                 5        0.013288    1.436331e-37        0.008307   \n",
       "..              ...             ...             ...             ...   \n",
       "995             996        0.014490    1.905766e-38        0.006694   \n",
       "996             997        0.014345    7.482934e-38        0.007739   \n",
       "997             998        0.014179    2.284116e-37        0.008601   \n",
       "998             999        0.014069    7.468921e-38        0.009208   \n",
       "999            1000        0.014209    4.554220e-38        0.009450   \n",
       "\n",
       "     CmRoll          CmPitch         CmYaw           Cd(f)           \\\n",
       "0         -0.000048        0.007193        0.000143        0.002819   \n",
       "1         -0.000139        0.017712        0.000371        0.007273   \n",
       "2         -0.000180        0.015921        0.000384        0.007501   \n",
       "3         -0.000197        0.012167        0.000349        0.006778   \n",
       "4         -0.000208        0.010141        0.000332        0.006436   \n",
       "..              ...             ...             ...             ...   \n",
       "995       -0.000167        0.015411        0.000362        0.007077   \n",
       "996       -0.000193        0.013295        0.000359        0.006979   \n",
       "997       -0.000215        0.011421        0.000354        0.006875   \n",
       "998       -0.000230        0.010081        0.000352        0.006804   \n",
       "999       -0.000236        0.009860        0.000355        0.006868   \n",
       "\n",
       "     Cd(r)           Cs(f)           Cs(r)           Cl(f)           \\\n",
       "0          0.002916        0.000143       -0.000143        0.008161   \n",
       "1          0.007550        0.000371       -0.000371        0.020483   \n",
       "2          0.007860        0.000384       -0.000384        0.019513   \n",
       "3          0.007171        0.000349       -0.000349        0.016099   \n",
       "4          0.006852        0.000332       -0.000332        0.014294   \n",
       "..              ...             ...             ...             ...   \n",
       "995        0.007412        0.000362       -0.000362        0.018757   \n",
       "996        0.007366        0.000359       -0.000359        0.017164   \n",
       "997        0.007305        0.000354       -0.000354        0.015722   \n",
       "998        0.007265        0.000352       -0.000352        0.014685   \n",
       "999        0.007341        0.000355       -0.000355        0.014585   \n",
       "\n",
       "     Cl(r)           \n",
       "0         -0.006225  \n",
       "1         -0.014940  \n",
       "2         -0.012330  \n",
       "3         -0.008235  \n",
       "4         -0.005987  \n",
       "..              ...  \n",
       "995       -0.012064  \n",
       "996       -0.009425  \n",
       "997       -0.007121  \n",
       "998       -0.005477  \n",
       "999       -0.005135  \n",
       "\n",
       "[1000 rows x 13 columns]"
      ]
     },
     "execution_count": 9,
     "metadata": {},
     "output_type": "execute_result"
    }
   ],
   "source": [
    "file_data"
   ]
  },
  {
   "cell_type": "code",
   "execution_count": 10,
   "metadata": {},
   "outputs": [],
   "source": [
    "file_data.columns = file_data.columns.str.strip()\n"
   ]
  },
  {
   "cell_type": "code",
   "execution_count": 11,
   "metadata": {},
   "outputs": [
    {
     "data": {
      "text/plain": [
       "Index(['# Time', 'Cd', 'Cs', 'Cl', 'CmRoll', 'CmPitch', 'CmYaw', 'Cd(f)',\n",
       "       'Cd(r)', 'Cs(f)', 'Cs(r)', 'Cl(f)', 'Cl(r)'],\n",
       "      dtype='object')"
      ]
     },
     "execution_count": 11,
     "metadata": {},
     "output_type": "execute_result"
    }
   ],
   "source": [
    "file_data.columns"
   ]
  },
  {
   "cell_type": "code",
   "execution_count": 12,
   "metadata": {},
   "outputs": [],
   "source": [
    "all_data.append(file_data)"
   ]
  },
  {
   "cell_type": "code",
   "execution_count": 14,
   "metadata": {},
   "outputs": [],
   "source": [
    "x1.append(int(re.search(r'x1-(\\d+)',file).group(1)))\n"
   ]
  },
  {
   "cell_type": "code",
   "execution_count": 15,
   "metadata": {},
   "outputs": [],
   "source": [
    "y1.append(int(re.search(r'y1-(\\d+)',file).group(1)))\n",
    "x2.append(int(re.search(r'x2-(\\d+)',file).group(1)))\n",
    "y2.append(int(re.search(r'y2-(\\d+)',file).group(1)))\n",
    "x3.append(int(re.search(r'x3-(\\d+)',file).group(1)))\n",
    "y3.append(int(re.search(r'y3-(\\d+)',file).group(1)))"
   ]
  },
  {
   "cell_type": "code",
   "execution_count": 16,
   "metadata": {},
   "outputs": [],
   "source": [
    "mean_cd_200.append(np.mean(file_data[\"Cd\"]))"
   ]
  },
  {
   "cell_type": "code",
   "execution_count": null,
   "metadata": {},
   "outputs": [],
   "source": []
  },
  {
   "cell_type": "code",
   "execution_count": 17,
   "metadata": {},
   "outputs": [],
   "source": [
    "mean_cd_400.append(np.mean(file_data[\"Cd\"]))"
   ]
  },
  {
   "cell_type": "code",
   "execution_count": 18,
   "metadata": {},
   "outputs": [],
   "source": [
    "mean_cd_600.append(np.mean(file_data[\"Cd\"]))"
   ]
  },
  {
   "cell_type": "code",
   "execution_count": 19,
   "metadata": {},
   "outputs": [],
   "source": [
    "df = pd.DataFrame(data={\"x1\":x1,\"y1\":y1,\"x2\":x2,\"y2\":y2,\"x3\":x3,\"y3\":y3,\"mean Cd 200\":mean_cd_200,\"mean Cd 400\":mean_cd_400,\"mean Cd 600\":mean_cd_600})\n"
   ]
  },
  {
   "cell_type": "code",
   "execution_count": 20,
   "metadata": {},
   "outputs": [
    {
     "data": {
      "text/plain": [
       "(1459, 1459, 1459)"
      ]
     },
     "execution_count": 20,
     "metadata": {},
     "output_type": "execute_result"
    }
   ],
   "source": [
    "len(mean_cd_200),len(mean_cd_400),len(mean_cd_600)"
   ]
  },
  {
   "cell_type": "code",
   "execution_count": 21,
   "metadata": {},
   "outputs": [
    {
     "data": {
      "text/plain": [
       "'/home/pc/flowAroundTriangles'"
      ]
     },
     "execution_count": 21,
     "metadata": {},
     "output_type": "execute_result"
    }
   ],
   "source": [
    "pwd"
   ]
  },
  {
   "cell_type": "code",
   "execution_count": null,
   "metadata": {},
   "outputs": [],
   "source": []
  }
 ],
 "metadata": {
  "kernelspec": {
   "display_name": "Python 3",
   "language": "python",
   "name": "python3"
  },
  "language_info": {
   "codemirror_mode": {
    "name": "ipython",
    "version": 3
   },
   "file_extension": ".py",
   "mimetype": "text/x-python",
   "name": "python",
   "nbconvert_exporter": "python",
   "pygments_lexer": "ipython3",
   "version": "3.8.0"
  }
 },
 "nbformat": 4,
 "nbformat_minor": 4
}
